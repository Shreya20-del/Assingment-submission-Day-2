{
 "cells": [
  {
   "cell_type": "code",
   "execution_count": 3,
   "metadata": {},
   "outputs": [
    {
     "name": "stdout",
     "output_type": "stream",
     "text": [
      "Enter the number of elements: 10\n",
      "0\n",
      "1\n",
      "2\n",
      "3\n",
      "4\n",
      "5\n",
      "6\n",
      "7\n",
      "8\n",
      "9\n",
      "[0, 1, 2, 3, 4, 5, 6, 7, 8, 9]\n",
      "0 2 4 6 8 "
     ]
    }
   ],
   "source": [
    "empty_list =[]\n",
    "num = int(input(\"Enter the number of elements: \"))\n",
    "for i in range (0,num):\n",
    "    ele =int(input())\n",
    "    empty_list.append(ele)\n",
    "print(empty_list)\n",
    "for num in empty_list:\n",
    "    if num % 2 == 0:\n",
    "        print(num, end =\" \")"
   ]
  },
  {
   "cell_type": "code",
   "execution_count": 2,
   "metadata": {},
   "outputs": [
    {
     "name": "stdout",
     "output_type": "stream",
     "text": [
      "[27, 125]\n"
     ]
    }
   ],
   "source": [
    "nums = [0,1,3,5]\n",
    "nmo = [num**3 for num in nums if num>2]\n",
    "print(nmo)"
   ]
  },
  {
   "cell_type": "code",
   "execution_count": 4,
   "metadata": {},
   "outputs": [
    {
     "name": "stdout",
     "output_type": "stream",
     "text": [
      "8\n",
      "{1: 1, 2: 4, 3: 9, 4: 16, 5: 25, 6: 36, 7: 49, 8: 64}\n"
     ]
    }
   ],
   "source": [
    "n= int(input())\n",
    "d = dict()\n",
    "for i in range (1,n+1):\n",
    "    d[i] = i*i\n",
    "print (d)"
   ]
  },
  {
   "cell_type": "code",
   "execution_count": 13,
   "metadata": {},
   "outputs": [
    {
     "name": "stdout",
     "output_type": "stream",
     "text": [
      "4\n",
      "Type in UP/DOWN/LEFT/RIGHT #step number: UP 5\n",
      "Type in UP/DOWN/LEFT/RIGHT #step number: DOWN 3\n",
      "Type in UP/DOWN/LEFT/RIGHT #step number: LEFT 3\n",
      "Type in UP/DOWN/LEFT/RIGHT #step number: RIGHT 2\n",
      "Distance: 2\n"
     ]
    }
   ],
   "source": [
    "import math\n",
    "\n",
    "x, y = 0, 0\n",
    "\n",
    "n = int(input())\n",
    "\n",
    "while (n > 0):\n",
    "    step = input(\"Type in UP/DOWN/LEFT/RIGHT #step number: \")\n",
    "\n",
    "    if step == \"\":\n",
    "        break\n",
    "\n",
    "    else:\n",
    "        step = step.split(\" \")\n",
    "\n",
    "        if step[0] == \"UP\":\n",
    "            y = y + int(step[1])\n",
    "        elif step[0] == \"DOWN\":\n",
    "            y = y - int(step[1])\n",
    "        elif step[0] == \"LEFT\":\n",
    "            x = x - int(step[1])\n",
    "        elif step[0] == \"RIGHT\":\n",
    "            x = x + int(step[1])\n",
    "            \n",
    "    n = n - 1\n",
    "\n",
    "c = math.sqrt(x**2 + y**2)\n",
    "c = round(c)\n",
    "\n",
    "print(\"Distance:\", c)"
   ]
  },
  {
   "cell_type": "code",
   "execution_count": null,
   "metadata": {},
   "outputs": [],
   "source": []
  }
 ],
 "metadata": {
  "kernelspec": {
   "display_name": "Python 3",
   "language": "python",
   "name": "python3"
  },
  "language_info": {
   "codemirror_mode": {
    "name": "ipython",
    "version": 3
   },
   "file_extension": ".py",
   "mimetype": "text/x-python",
   "name": "python",
   "nbconvert_exporter": "python",
   "pygments_lexer": "ipython3",
   "version": "3.7.6"
  }
 },
 "nbformat": 4,
 "nbformat_minor": 4
}
